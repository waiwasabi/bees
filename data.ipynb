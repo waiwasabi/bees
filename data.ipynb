{
 "cells": [
  {
   "cell_type": "code",
   "execution_count": 3,
   "metadata": {
    "collapsed": true
   },
   "outputs": [],
   "source": [
    "import pandas as pd\n",
    "\n",
    "df = pd.read_csv(\"city_temperature.csv\", low_memory=False)"
   ]
  },
  {
   "cell_type": "code",
   "execution_count": 22,
   "outputs": [
    {
     "data": {
      "text/plain": "                Region Country    State        City  Month  Day  Year  \\\n1459756  North America      US  Alabama  Birmingham      1    1  2019   \n1459757  North America      US  Alabama  Birmingham      1    2  2019   \n1459758  North America      US  Alabama  Birmingham      1    3  2019   \n1459759  North America      US  Alabama  Birmingham      1    4  2019   \n1459760  North America      US  Alabama  Birmingham      1    5  2019   \n...                ...     ...      ...         ...    ...  ...   ...   \n2899401  North America      US  Wyoming    Cheyenne     12   27  2019   \n2899402  North America      US  Wyoming    Cheyenne     12   28  2019   \n2899403  North America      US  Wyoming    Cheyenne     12   29  2019   \n2899404  North America      US  Wyoming    Cheyenne     12   30  2019   \n2899405  North America      US  Wyoming    Cheyenne     12   31  2019   \n\n         AvgTemperature  \n1459756            60.3  \n1459757            51.1  \n1459758            51.4  \n1459759            54.7  \n1459760            47.5  \n...                 ...  \n2899401            25.1  \n2899402            23.3  \n2899403            17.5  \n2899404            17.6  \n2899405            24.5  \n\n[55845 rows x 8 columns]",
      "text/html": "<div>\n<style scoped>\n    .dataframe tbody tr th:only-of-type {\n        vertical-align: middle;\n    }\n\n    .dataframe tbody tr th {\n        vertical-align: top;\n    }\n\n    .dataframe thead th {\n        text-align: right;\n    }\n</style>\n<table border=\"1\" class=\"dataframe\">\n  <thead>\n    <tr style=\"text-align: right;\">\n      <th></th>\n      <th>Region</th>\n      <th>Country</th>\n      <th>State</th>\n      <th>City</th>\n      <th>Month</th>\n      <th>Day</th>\n      <th>Year</th>\n      <th>AvgTemperature</th>\n    </tr>\n  </thead>\n  <tbody>\n    <tr>\n      <th>1459756</th>\n      <td>North America</td>\n      <td>US</td>\n      <td>Alabama</td>\n      <td>Birmingham</td>\n      <td>1</td>\n      <td>1</td>\n      <td>2019</td>\n      <td>60.3</td>\n    </tr>\n    <tr>\n      <th>1459757</th>\n      <td>North America</td>\n      <td>US</td>\n      <td>Alabama</td>\n      <td>Birmingham</td>\n      <td>1</td>\n      <td>2</td>\n      <td>2019</td>\n      <td>51.1</td>\n    </tr>\n    <tr>\n      <th>1459758</th>\n      <td>North America</td>\n      <td>US</td>\n      <td>Alabama</td>\n      <td>Birmingham</td>\n      <td>1</td>\n      <td>3</td>\n      <td>2019</td>\n      <td>51.4</td>\n    </tr>\n    <tr>\n      <th>1459759</th>\n      <td>North America</td>\n      <td>US</td>\n      <td>Alabama</td>\n      <td>Birmingham</td>\n      <td>1</td>\n      <td>4</td>\n      <td>2019</td>\n      <td>54.7</td>\n    </tr>\n    <tr>\n      <th>1459760</th>\n      <td>North America</td>\n      <td>US</td>\n      <td>Alabama</td>\n      <td>Birmingham</td>\n      <td>1</td>\n      <td>5</td>\n      <td>2019</td>\n      <td>47.5</td>\n    </tr>\n    <tr>\n      <th>...</th>\n      <td>...</td>\n      <td>...</td>\n      <td>...</td>\n      <td>...</td>\n      <td>...</td>\n      <td>...</td>\n      <td>...</td>\n      <td>...</td>\n    </tr>\n    <tr>\n      <th>2899401</th>\n      <td>North America</td>\n      <td>US</td>\n      <td>Wyoming</td>\n      <td>Cheyenne</td>\n      <td>12</td>\n      <td>27</td>\n      <td>2019</td>\n      <td>25.1</td>\n    </tr>\n    <tr>\n      <th>2899402</th>\n      <td>North America</td>\n      <td>US</td>\n      <td>Wyoming</td>\n      <td>Cheyenne</td>\n      <td>12</td>\n      <td>28</td>\n      <td>2019</td>\n      <td>23.3</td>\n    </tr>\n    <tr>\n      <th>2899403</th>\n      <td>North America</td>\n      <td>US</td>\n      <td>Wyoming</td>\n      <td>Cheyenne</td>\n      <td>12</td>\n      <td>29</td>\n      <td>2019</td>\n      <td>17.5</td>\n    </tr>\n    <tr>\n      <th>2899404</th>\n      <td>North America</td>\n      <td>US</td>\n      <td>Wyoming</td>\n      <td>Cheyenne</td>\n      <td>12</td>\n      <td>30</td>\n      <td>2019</td>\n      <td>17.6</td>\n    </tr>\n    <tr>\n      <th>2899405</th>\n      <td>North America</td>\n      <td>US</td>\n      <td>Wyoming</td>\n      <td>Cheyenne</td>\n      <td>12</td>\n      <td>31</td>\n      <td>2019</td>\n      <td>24.5</td>\n    </tr>\n  </tbody>\n</table>\n<p>55845 rows × 8 columns</p>\n</div>"
     },
     "execution_count": 22,
     "metadata": {},
     "output_type": "execute_result"
    }
   ],
   "source": [
    "df = df.loc[(df[\"Region\"]==\"North America\") & (df[\"Country\"]==\"US\") & (df[\"Year\"]==2019)]\n",
    "df"
   ],
   "metadata": {
    "collapsed": false,
    "pycharm": {
     "name": "#%%\n"
    }
   }
  },
  {
   "cell_type": "code",
   "execution_count": 23,
   "outputs": [],
   "source": [
    "df.to_csv(\"city_temperature.csv\", index=None)"
   ],
   "metadata": {
    "collapsed": false,
    "pycharm": {
     "name": "#%%\n"
    }
   }
  },
  {
   "cell_type": "code",
   "execution_count": 19,
   "outputs": [],
   "source": [
    "df.loc[(df[\"City\"]==\"Anchorage\") & (df[\"Year\"]==2019)][\"AvgTemperature\"].to_csv(\"Anchorage_2019.csv\", index=None)"
   ],
   "metadata": {
    "collapsed": false,
    "pycharm": {
     "name": "#%%\n"
    }
   }
  },
  {
   "cell_type": "code",
   "execution_count": null,
   "outputs": [],
   "source": [],
   "metadata": {
    "collapsed": false,
    "pycharm": {
     "name": "#%%\n"
    }
   }
  }
 ],
 "metadata": {
  "kernelspec": {
   "display_name": "Python 3",
   "language": "python",
   "name": "python3"
  },
  "language_info": {
   "codemirror_mode": {
    "name": "ipython",
    "version": 2
   },
   "file_extension": ".py",
   "mimetype": "text/x-python",
   "name": "python",
   "nbconvert_exporter": "python",
   "pygments_lexer": "ipython2",
   "version": "2.7.6"
  }
 },
 "nbformat": 4,
 "nbformat_minor": 0
}